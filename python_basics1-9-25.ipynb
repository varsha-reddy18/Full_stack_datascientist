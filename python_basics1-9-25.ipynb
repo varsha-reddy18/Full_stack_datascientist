{
 "cells": [
  {
   "cell_type": "code",
   "execution_count": null,
   "id": "20ea86dd",
   "metadata": {},
   "outputs": [
    {
     "name": "stdout",
     "output_type": "stream",
     "text": [
      "Not Prime\n"
     ]
    }
   ],
   "source": [
    "\"\"\"Prime Number\"\"\"\n",
    "n=int(input(\"Enter a number:\"))\n",
    "if(n<=1):\n",
    "    print(\"Not Prime\")\n",
    "elif(n==2):\n",
    "    print(\"Prime\")\n",
    "else:\n",
    "    prime=True\n",
    "    for i in range(3,n):\n",
    "        if(n%i==0):\n",
    "            prime=False\n",
    "            break\n",
    "    if prime:\n",
    "        print(\"Prime\")\n",
    "    else:\n",
    "        print(\"Not Prime\")"
   ]
  },
  {
   "cell_type": "code",
   "execution_count": 4,
   "id": "4cc4f8fc",
   "metadata": {},
   "outputs": [
    {
     "name": "stdout",
     "output_type": "stream",
     "text": [
      "40\n"
     ]
    }
   ],
   "source": [
    "\"\"\"Largest number\"\"\"\n",
    "arr=list(map(int,input(\"Enter List:\").split()))\n",
    "largest=arr[0]\n",
    "for i in arr:\n",
    "    if i>largest:\n",
    "        largest=i\n",
    "print(largest)"
   ]
  },
  {
   "cell_type": "code",
   "execution_count": 5,
   "id": "b994ef29",
   "metadata": {},
   "outputs": [
    {
     "name": "stdout",
     "output_type": "stream",
     "text": [
      "Second largest: 30\n"
     ]
    }
   ],
   "source": [
    "\"\"\"Second Largest number\"\"\"\n",
    "arr=list(map(int,input(\"Enter List:\").split()))\n",
    "if(len(arr)<2):\n",
    "    print(\"No second largest found\")\n",
    "else:\n",
    "    f=s=float('-inf')\n",
    "    for i in arr:\n",
    "        if i>f:\n",
    "            s=f\n",
    "            f=i\n",
    "        elif f>i>s:\n",
    "            s=i\n",
    "    if s==float('-inf'):\n",
    "        print('No Second largest')\n",
    "    else:\n",
    "        print(\"Second largest:\",s)"
   ]
  },
  {
   "cell_type": "code",
   "execution_count": 45,
   "id": "ed541167",
   "metadata": {},
   "outputs": [
    {
     "name": "stdout",
     "output_type": "stream",
     "text": [
      "650\n"
     ]
    }
   ],
   "source": [
    "\"\"\"Sum of Even numbers\"\"\"\n",
    "sum=0\n",
    "for i in range(1,51):\n",
    "    if(i%2==0):\n",
    "        sum=sum+i\n",
    "print(sum)"
   ]
  },
  {
   "cell_type": "code",
   "execution_count": 10,
   "id": "c442106e",
   "metadata": {},
   "outputs": [
    {
     "name": "stdout",
     "output_type": "stream",
     "text": [
      "Uppercase: 2\n",
      "Lowercase: 8\n"
     ]
    }
   ],
   "source": [
    "\"\"\"Count Upper&Lower Case\"\"\"\n",
    "s=str(input(\"Enter String:\"))\n",
    "u=0\n",
    "l=0\n",
    "for i in s:\n",
    "    ascii=ord(i)\n",
    "    if 65<=ascii<=90:\n",
    "        u=u+1\n",
    "    elif 97<=ascii<=122:\n",
    "        l=l+1\n",
    "print(\"Uppercase:\",u)\n",
    "print(\"Lowercase:\",l)\n"
   ]
  },
  {
   "cell_type": "code",
   "execution_count": 17,
   "id": "6d6d2eac",
   "metadata": {},
   "outputs": [
    {
     "name": "stdout",
     "output_type": "stream",
     "text": [
      "0\n",
      "1\n",
      "1\n",
      "2\n",
      "3\n",
      "5\n",
      "8\n"
     ]
    }
   ],
   "source": [
    "\"\"\"Fibannoci Series\"\"\"\n",
    "n=int(input())\n",
    "n1=0\n",
    "n2=1\n",
    "c=0\n",
    "if n<=0:\n",
    "    print(\"Fibannoci not possible\")\n",
    "elif n==1:\n",
    "    print(n1)\n",
    "else:\n",
    "    for i in range(n):\n",
    "        print(n1)\n",
    "        n3=n1+n2\n",
    "        n1=n2\n",
    "        n2=n3\n",
    "        c=c+1\n",
    "    \n"
   ]
  },
  {
   "cell_type": "code",
   "execution_count": null,
   "id": "b86921ca",
   "metadata": {},
   "outputs": [
    {
     "name": "stdout",
     "output_type": "stream",
     "text": [
      "Not Anagrams\n"
     ]
    }
   ],
   "source": [
    "\"\"\"Check Anagrams\"\"\"\n",
    "def func(s1,s2):\n",
    "    s1=s1.replace(\" \",\"\").lower()\n",
    "    s2=s2.replace(\" \",\"\").lower()\n",
    "    return sorted(s1)==sorted(s2)\n",
    "s1=input()\n",
    "s2=input()\n",
    "if(func(s1,s2)):\n",
    "    print(\"Anagrams\")\n",
    "else:\n",
    "    print(\"Not Anagrams\")"
   ]
  },
  {
   "cell_type": "code",
   "execution_count": null,
   "id": "2f1d2fbc",
   "metadata": {},
   "outputs": [
    {
     "name": "stdout",
     "output_type": "stream",
     "text": [
      "Not perfect number\n"
     ]
    }
   ],
   "source": [
    "\"\"\"Perfect number or not\"\"\"\n",
    "n=int(input())\n",
    "sum=0\n",
    "for i in range(1,n):\n",
    "    if(n%i==0):\n",
    "        sum=sum+i\n",
    "if sum==n:\n",
    "    print(\"Perfect Number\")\n",
    "else:\n",
    "    print(\"Not perfect number\")"
   ]
  },
  {
   "cell_type": "code",
   "execution_count": null,
   "id": "91fa073f",
   "metadata": {},
   "outputs": [
    {
     "name": "stdout",
     "output_type": "stream",
     "text": [
      "\n",
      "Total Marks: 436.0/500\n",
      "Percentage: 87.20%\n",
      "Grade: B\n"
     ]
    }
   ],
   "source": [
    "\"\"\"Calculate marks % and grade\"\"\"\n",
    "del sum\n",
    "marks = []\n",
    "for i in range(1, 6):\n",
    "    mark = float(input(f\"Enter marks for subject {i}: \"))    \n",
    "    marks.append(mark)\n",
    "total = sum(marks)\n",
    "percentage = (total / 500) * 100 \n",
    "if percentage >= 90:\n",
    "    grade = \"A\"\n",
    "elif percentage >= 75:\n",
    "    grade = \"B\"\n",
    "elif percentage >= 50:\n",
    "    grade = \"C\"\n",
    "else:\n",
    "    grade = \"Fail\"\n",
    "print(f\"\\nTotal Marks: {total}/500\")\n",
    "print(f\"Percentage: {percentage:.2f}%\")\n",
    "print(f\"Grade: {grade}\")\n"
   ]
  },
  {
   "cell_type": "code",
   "execution_count": 51,
   "id": "0bf9d867",
   "metadata": {},
   "outputs": [
    {
     "name": "stdout",
     "output_type": "stream",
     "text": [
      "2 3 5 7 11 13 17 19 23 29 31 37 41 43 47 53 59 61 67 71 73 79 83 89 97 "
     ]
    }
   ],
   "source": [
    "\"Prime numbers 1 to 100\"\n",
    "for i in range(2,101):\n",
    "    prime=True\n",
    "    for j in range(2,int(i**0.5)+1):\n",
    "        if i%j==0:\n",
    "            prime=False\n",
    "            break\n",
    "    if prime:\n",
    "        print(i,end=\" \")"
   ]
  },
  {
   "cell_type": "code",
   "execution_count": 53,
   "id": "05f85da5",
   "metadata": {},
   "outputs": [
    {
     "name": "stdout",
     "output_type": "stream",
     "text": [
      "Words Count: 3\n"
     ]
    }
   ],
   "source": [
    "\"\"\"Count words in a sentence\"\"\"\n",
    "s=input()\n",
    "word=False\n",
    "c=0\n",
    "for i in s:\n",
    "    if i!=' ' and not word:\n",
    "        c=c+1\n",
    "        word=True\n",
    "    elif i==' ':\n",
    "        word=False\n",
    "print(\"Words Count:\",c)"
   ]
  },
  {
   "cell_type": "code",
   "execution_count": null,
   "id": "ce8db593",
   "metadata": {},
   "outputs": [
    {
     "name": "stdout",
     "output_type": "stream",
     "text": [
      "Final Ticket Price:160.00\n"
     ]
    }
   ],
   "source": [
    "\"\"\"Movie Ticket discount\"\"\"\n",
    "ticket_price=float(input())\n",
    "age=int(input())\n",
    "student=input(\"Enter yes/no\").strip().lower()\n",
    "d=0\n",
    "if student==\"yes\":\n",
    "    d=0.20\n",
    "elif age>=60:\n",
    "    d=0.10\n",
    "final=ticket_price*(1-d)\n",
    "print(f\"Final Ticket Price:{final:.2f}\")"
   ]
  },
  {
   "cell_type": "code",
   "execution_count": null,
   "id": "1c2f2417",
   "metadata": {},
   "outputs": [
    {
     "name": "stdout",
     "output_type": "stream",
     "text": [
      "110\n"
     ]
    }
   ],
   "source": [
    "\"\"\"Shopping cart Free Delivery\"\"\"\n",
    "total=int(input())\n",
    "d=0\n",
    "if(total>=500):\n",
    "    d=0\n",
    "    print(\"Free Delivery\")\n",
    "else:\n",
    "    d=50\n",
    "total=total+d\n",
    "print(total)"
   ]
  },
  {
   "cell_type": "code",
   "execution_count": null,
   "id": "21ad6fc4",
   "metadata": {},
   "outputs": [
    {
     "name": "stdout",
     "output_type": "stream",
     "text": [
      "B\n"
     ]
    }
   ],
   "source": [
    "\"\"\"Marks Grading System\"\"\"\n",
    "m=int(input())\n",
    "if(m>=90 and m<=100):\n",
    "    print(\"A\")\n",
    "elif(m>=75 and m<=89):\n",
    "    print(\"B\")\n",
    "elif(m>=50 and m<=74):\n",
    "    print(\"C\")\n",
    "else:\n",
    "    print(\"Fail\")"
   ]
  },
  {
   "cell_type": "code",
   "execution_count": null,
   "id": "15ee5326",
   "metadata": {},
   "outputs": [
    {
     "name": "stdout",
     "output_type": "stream",
     "text": [
      "Tip to be added:22.50\n"
     ]
    }
   ],
   "source": [
    "\"\"\"Restaurent tip bill\"\"\"\n",
    "bill=int(input())\n",
    "if(bill<500):\n",
    "    tip=bill*0.05\n",
    "elif(bill>500 and bill<1000):\n",
    "    tip=bill*0.10\n",
    "elif(bill>1000):\n",
    "    tip=bill*0.15\n",
    "\n",
    "print(f\"Tip to be added:{tip:.2f}\")"
   ]
  },
  {
   "cell_type": "code",
   "execution_count": null,
   "id": "eb4e096c",
   "metadata": {},
   "outputs": [
    {
     "name": "stdout",
     "output_type": "stream",
     "text": [
      "Nice Weather,go out!\n"
     ]
    }
   ],
   "source": [
    "\"\"\"Temperature\"\"\"\n",
    "t=float(input())\n",
    "if(t==35):\n",
    "    print(\"Too hot,stay indoors!\")\n",
    "elif(t>20 and t<35):\n",
    "    print(\"Nice Weather,go out!\")\n",
    "elif(t<20):\n",
    "    print(\"It’s cold, wear warm clothes!\")"
   ]
  },
  {
   "cell_type": "code",
   "execution_count": 65,
   "id": "9955edc6",
   "metadata": {},
   "outputs": [
    {
     "name": "stdout",
     "output_type": "stream",
     "text": [
      "Fine 50\n"
     ]
    }
   ],
   "source": [
    "days=int(input())\n",
    "if(1<days<5):\n",
    "    print(\"Fine 10\")\n",
    "elif(6<days<10):\n",
    "    print(\"Fine 50\")\n",
    "elif(days>10):\n",
    "    print(\"Fine 100\")\n",
    "else:\n",
    "    print(\"Fine 0\")"
   ]
  },
  {
   "cell_type": "code",
   "execution_count": 67,
   "id": "f6405119",
   "metadata": {},
   "outputs": [
    {
     "name": "stdout",
     "output_type": "stream",
     "text": [
      "Total electricity bill:400\n"
     ]
    }
   ],
   "source": [
    "units=int(input())\n",
    "if(units<=100):\n",
    "    bill=units*5\n",
    "elif(units<=200):\n",
    "    bill=(100*5)+(units*7)\n",
    "else:\n",
    "    bill=(100*5)+(100*7)+(units-200)*10\n",
    "print(f\"Total electricity bill:{bill}\")\n",
    "    "
   ]
  },
  {
   "cell_type": "code",
   "execution_count": 1,
   "id": "08426e77",
   "metadata": {},
   "outputs": [
    {
     "name": "stdout",
     "output_type": "stream",
     "text": [
      "Attendend:70.83333333333334%\n",
      "Not eligible\n"
     ]
    }
   ],
   "source": [
    "total=int(input())\n",
    "attend=int(input())\n",
    "per=(attend/total)*100\n",
    "print(f\"Attendend:{per}%\")\n",
    "if(per>=75):\n",
    "    print(\"Eligible\")\n",
    "else:\n",
    "    print(\"Not eligible\")"
   ]
  },
  {
   "cell_type": "code",
   "execution_count": 4,
   "id": "29194aa0",
   "metadata": {},
   "outputs": [
    {
     "name": "stdout",
     "output_type": "stream",
     "text": [
      "Success\n"
     ]
    }
   ],
   "source": [
    "amount=int(input())\n",
    "if(amount%100==0):\n",
    "    print(\"Success\")\n",
    "else:\n",
    "    print(\"Fails\")"
   ]
  },
  {
   "cell_type": "code",
   "execution_count": null,
   "id": "b77f0ef1",
   "metadata": {},
   "outputs": [],
   "source": []
  }
 ],
 "metadata": {
  "kernelspec": {
   "display_name": "venv",
   "language": "python",
   "name": "python3"
  },
  "language_info": {
   "codemirror_mode": {
    "name": "ipython",
    "version": 3
   },
   "file_extension": ".py",
   "mimetype": "text/x-python",
   "name": "python",
   "nbconvert_exporter": "python",
   "pygments_lexer": "ipython3",
   "version": "3.11.0"
  }
 },
 "nbformat": 4,
 "nbformat_minor": 5
}
