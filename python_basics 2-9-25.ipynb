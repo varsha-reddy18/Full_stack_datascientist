{
 "cells": [
  {
   "cell_type": "code",
   "execution_count": 27,
   "id": "3f006446",
   "metadata": {},
   "outputs": [
    {
     "name": "stdout",
     "output_type": "stream",
     "text": [
      "item 1 Price: Quantity: \n",
      "item 2 Price: Quantity: \n",
      "item 3 Price: Quantity: \n",
      "310\n"
     ]
    }
   ],
   "source": [
    "total=0\n",
    "for i in range(1,4):\n",
    "    print(\"item\",i,end=\" \")\n",
    "    print(\"Price:\",end=\" \")\n",
    "    price=int(input())\n",
    "    print(\"Quantity:\",end=\" \")\n",
    "    quan=int(input())\n",
    "    print(end=\"\\n\")\n",
    "    bill=price*quan\n",
    "    total=bill+total\n",
    "print(total)"
   ]
  },
  {
   "cell_type": "code",
   "execution_count": 9,
   "id": "ab017ffd",
   "metadata": {},
   "outputs": [
    {
     "name": "stdout",
     "output_type": "stream",
     "text": [
      "Addition= 30\n",
      "Subtraction= -10\n",
      "Multiplication= 200\n",
      "Division= 0.5\n",
      "Modulus= 10\n"
     ]
    }
   ],
   "source": [
    "a=int(input(\"Enter First Number:\"))\n",
    "b=int(input(\"Enter Second Number:\"))\n",
    "print(\"Addition=\",a+b)\n",
    "print(\"Subtraction=\",a-b)\n",
    "print(\"Multiplication=\",a*b)\n",
    "print(\"Division=\",a/b)\n",
    "print(\"Modulus=\",a%b)\n",
    "\n",
    "\n",
    "\n",
    "   "
   ]
  },
  {
   "cell_type": "code",
   "execution_count": 10,
   "id": "a0f113ba",
   "metadata": {},
   "outputs": [
    {
     "name": "stdout",
     "output_type": "stream",
     "text": [
      "Grade:C\n"
     ]
    }
   ],
   "source": [
    "marks=int(input(\"Enter Marks:\"))\n",
    "if(marks>=90):\n",
    "    print(\"Grade:A+\")\n",
    "elif(80<marks<89):\n",
    "    print(\"Grade:A\")\n",
    "elif(70<marks<79):\n",
    "    print(\"Grade:B\")\n",
    "elif(60<marks<69):\n",
    "    print(\"Grade:C\")\n",
    "elif(marks<60):\n",
    "    print(\"Grade:Fail\")"
   ]
  },
  {
   "cell_type": "code",
   "execution_count": 32,
   "id": "0ab65964",
   "metadata": {},
   "outputs": [
    {
     "name": "stdout",
     "output_type": "stream",
     "text": [
      "Highest Marks= 90\n",
      "Lowest Marks= 45\n",
      "Average Marks= 71.4\n"
     ]
    }
   ],
   "source": [
    "marks=[45, 78, 88, 56, 90]\n",
    "print(\"Highest Marks=\",max(marks))\n",
    "print(\"Lowest Marks=\",min(marks))\n",
    "total=sum(marks)\n",
    "avg=total/len(marks)\n",
    "print(\"Average Marks=\",avg)"
   ]
  },
  {
   "cell_type": "code",
   "execution_count": 31,
   "id": "0c617304",
   "metadata": {},
   "outputs": [
    {
     "name": "stdout",
     "output_type": "stream",
     "text": [
      "Phone number of Ravi:\n",
      " 9123456780\n"
     ]
    }
   ],
   "source": [
    "Phonebook = {\"Suhel\": 9876543210, \"Ravi\": 9123456780, \"Anita\": 9988776655}\n",
    "c=Phonebook[\"Ravi\"]\n",
    "print(\"Phone number of Ravi:\\n\",c)"
   ]
  },
  {
   "cell_type": "code",
   "execution_count": 1,
   "id": "927f4def",
   "metadata": {},
   "outputs": [
    {
     "name": "stdout",
     "output_type": "stream",
     "text": [
      "Words Count: 4\n",
      "Vowels Count: 5\n",
      "Character count: 16\n"
     ]
    }
   ],
   "source": [
    "s=input(\"Enter a sentence:\")\n",
    "word=False\n",
    "w=0\n",
    "v=0\n",
    "c=0\n",
    "for i in s:\n",
    "    if i!=' ':\n",
    "        c=c+1\n",
    "    if i!=' ' and not word:\n",
    "        w=w+1\n",
    "        word=True\n",
    "    elif i==' ':\n",
    "        word=False\n",
    "    if i.lower() in \"aeiou\":\n",
    "        v=v+1\n",
    "print(\"Words Count:\",w)\n",
    "print(\"Vowels Count:\",v)\n",
    "print(\"Character count:\",c)"
   ]
  },
  {
   "cell_type": "code",
   "execution_count": 13,
   "id": "180bbed3",
   "metadata": {},
   "outputs": [
    {
     "name": "stdout",
     "output_type": "stream",
     "text": [
      "Compound Interest: 512.5\n",
      "Total Interest: 5512.5\n"
     ]
    }
   ],
   "source": [
    "p=float(input(\"Principal:\"))\n",
    "r=float(input(\"Rate:\"))\n",
    "t=float(input(\"Time:\"))\n",
    "types=input(\"Enter type\").strip().lower()\n",
    "if(types==\"compound\"):\n",
    "    amount=p*(1+r/100)**t\n",
    "    c=amount-p\n",
    "    print(\"Compound Interest:\",round(c,2))\n",
    "    print(\"Total Interest:\",round(amount,2))\n",
    "else:\n",
    "    s=(p*t*r)/100\n",
    "    print(\"Simple interest:\",round(s,2))\n",
    "    print(\"Total Interest:\",round(s+p,2))"
   ]
  },
  {
   "cell_type": "code",
   "execution_count": null,
   "id": "e6f8c8df",
   "metadata": {},
   "outputs": [
    {
     "name": "stdout",
     "output_type": "stream",
     "text": [
      "PIN verified\n",
      "Withdrawal successfully\n",
      "Remaining balance= 3000\n"
     ]
    }
   ],
   "source": [
    "pin=int(input(\"Pin=\"))\n",
    "bal=int(input(\"Balance=\"))\n",
    "withdraw=int(input(\"Withdraw=\"))\n",
    "print(\"PIN verified\")\n",
    "if(bal>withdraw):\n",
    "    print(\"Withdrawal successfully\")\n",
    "    print(\"Remaining balance=\",bal-withdraw)\n",
    "else:\n",
    "    print(\"Insuffient Balance\")"
   ]
  },
  {
   "cell_type": "code",
   "execution_count": null,
   "id": "c7c8e395",
   "metadata": {},
   "outputs": [
    {
     "name": "stdout",
     "output_type": "stream",
     "text": [
      "['Python Basics', 'AI Fundamentals', 'Machine Learning']\n",
      "Total Books: 3\n"
     ]
    }
   ],
   "source": [
    "Books = [\"Python Basics\", \"Data Science\", \"AI Fundamentals\"]\n",
    "add_book=input()\n",
    "remove_book=input()\n",
    "Books.insert(3,add_book)\n",
    "Books.remove(remove_book)\n",
    "print(Books)\n",
    "print(\"Total Books:\",len(Books))"
   ]
  },
  {
   "cell_type": "code",
   "execution_count": 12,
   "id": "d1fdcfbf",
   "metadata": {},
   "outputs": [
    {
     "name": "stdout",
     "output_type": "stream",
     "text": [
      "Encrypted message: KHOOR\n"
     ]
    }
   ],
   "source": [
    "m=input(\"Message:\").upper()\n",
    "shift=int(input(\"Shift:\"))\n",
    "e=\"\"\n",
    "for i in m:\n",
    "    if i>='A' and i<='Z':\n",
    "        char=chr((ord(i)-ord('A')+shift)%26+ord('A'))\n",
    "        e=e+char\n",
    "    else:\n",
    "        e=e+i\n",
    "print(\"Encrypted message:\",e)"
   ]
  },
  {
   "cell_type": "code",
   "execution_count": null,
   "id": "5e04cd7e",
   "metadata": {},
   "outputs": [],
   "source": []
  }
 ],
 "metadata": {
  "kernelspec": {
   "display_name": "venv",
   "language": "python",
   "name": "python3"
  },
  "language_info": {
   "codemirror_mode": {
    "name": "ipython",
    "version": 3
   },
   "file_extension": ".py",
   "mimetype": "text/x-python",
   "name": "python",
   "nbconvert_exporter": "python",
   "pygments_lexer": "ipython3",
   "version": "3.11.0"
  }
 },
 "nbformat": 4,
 "nbformat_minor": 5
}
