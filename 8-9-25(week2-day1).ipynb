{
 "cells": [
  {
   "cell_type": "code",
   "execution_count": 30,
   "id": "4209aa2d",
   "metadata": {},
   "outputs": [
    {
     "name": "stdout",
     "output_type": "stream",
     "text": [
      "[2, 3, 5, 7, 11, 13, 17, 19]\n"
     ]
    }
   ],
   "source": [
    "def prime(n):\n",
    "    primes=[]\n",
    "    for i in range(2,n):\n",
    "        p=True\n",
    "        for j in range(2,int(i**0.5)+1):\n",
    "            if(i%j==0):\n",
    "                p=False\n",
    "                break\n",
    "        if p:\n",
    "            primes.append(i)\n",
    "    return primes\n",
    "\n",
    "n=int(input(\"Enter number:\"))\n",
    "print(prime(n))"
   ]
  },
  {
   "cell_type": "code",
   "execution_count": 35,
   "id": "833ff322",
   "metadata": {},
   "outputs": [
    {
     "name": "stdout",
     "output_type": "stream",
     "text": [
      "Before Reverse: neveroddoreven\n",
      "After Reverse: neveroddoreven\n",
      "True\n"
     ]
    }
   ],
   "source": [
    "def palindrome(s):\n",
    "    s=s.replace(\" \",\"\")\n",
    "    s=s.lower()\n",
    "    print(\"Before Reverse:\",s)\n",
    "    r=\"\"\n",
    "    for i in s:\n",
    "        r=i+r\n",
    "    print(\"After Reverse:\",r)\n",
    "    if(s==r):\n",
    "        return True\n",
    "    else:\n",
    "        return False\n",
    "s=input(\"Enter String:\")\n",
    "if(palindrome(s)):\n",
    "    print(\"True\")\n",
    "else:\n",
    "    print(\"False\")\n"
   ]
  },
  {
   "cell_type": "code",
   "execution_count": 36,
   "id": "59c3d261",
   "metadata": {},
   "outputs": [
    {
     "name": "stdout",
     "output_type": "stream",
     "text": [
      "True\n"
     ]
    }
   ],
   "source": [
    "def anagram(s1,s2):\n",
    "    s1=s1.replace(\" \",\"\").lower()\n",
    "    s2=s2.replace(\" \",\"\").lower()\n",
    "    return sorted(s1)==sorted(s2)\n",
    "s1=input(\"Enter String1:\")\n",
    "s2=input(\"Enter String2:\")\n",
    "if(anagram(s1,s2)):\n",
    "    print(\"True\")\n",
    "else:\n",
    "    print(\"False\")"
   ]
  },
  {
   "cell_type": "code",
   "execution_count": 40,
   "id": "13f15674",
   "metadata": {},
   "outputs": [
    {
     "name": "stdout",
     "output_type": "stream",
     "text": [
      "String: Hello\n",
      "Vowels: 2\n",
      "Consonants: 3\n"
     ]
    }
   ],
   "source": [
    "def countVC(s):\n",
    "    v=0\n",
    "    c=0\n",
    "    print(\"String:\",s)\n",
    "    for i in s:\n",
    "        if i in \"AEIOUaeiou\":\n",
    "            v=v+1\n",
    "        else:\n",
    "            c=c+1\n",
    "    print(\"Vowels:\",v)\n",
    "    print(\"Consonants:\",c)\n",
    "s=input(\"Enter string:\")  \n",
    "countVC(s)"
   ]
  },
  {
   "cell_type": "code",
   "execution_count": 51,
   "id": "c9792ae0",
   "metadata": {},
   "outputs": [
    {
     "name": "stdout",
     "output_type": "stream",
     "text": [
      "String= Python is amazing\n",
      "amazing\n"
     ]
    }
   ],
   "source": [
    "def longestWordFinder(s):\n",
    "    print(\"String=\",s)\n",
    "    s.lower()\n",
    "    l=\"\"\n",
    "    word=s.split()\n",
    "    for i in word:\n",
    "        if(len(i)>len(l)):\n",
    "            l=i\n",
    "    return l\n",
    "s=input(\"Enter String:\")\n",
    "print(longestWordFinder(s))"
   ]
  },
  {
   "cell_type": "code",
   "execution_count": 82,
   "id": "d54b3f62",
   "metadata": {},
   "outputs": [
    {
     "name": "stdout",
     "output_type": "stream",
     "text": [
      "ujyczn\n"
     ]
    }
   ],
   "source": [
    "import random,string\n",
    "n=int(input(\"Enter length:\"))\n",
    "ch=string.ascii_letters+string.digits+string.punctuation\n",
    "password=\"\".join(random.choice(ch) for _ in range(n))\n",
    "print(password)"
   ]
  },
  {
   "cell_type": "code",
   "execution_count": 57,
   "id": "0403faca",
   "metadata": {},
   "outputs": [
    {
     "name": "stdout",
     "output_type": "stream",
     "text": [
      "sqrt: 3.0\n",
      "Factorial: 362880\n",
      "Sin: 1.0\n",
      "Cos: -1.0\n"
     ]
    }
   ],
   "source": [
    "import math\n",
    "n=int(input(\"Enter number:\"))\n",
    "print(\"sqrt:\",math.sqrt(n))\n",
    "print(\"Factorial:\",math.factorial(n))\n",
    "print(\"Sin:\",math.sin(math.pi/2))\n",
    "print(\"Cos:\",math.cos(math.pi))"
   ]
  },
  {
   "cell_type": "code",
   "execution_count": 63,
   "id": "90c2dd96",
   "metadata": {},
   "outputs": [
    {
     "name": "stdout",
     "output_type": "stream",
     "text": [
      "Counter({'cat': 2, 'dog': 1})\n"
     ]
    }
   ],
   "source": [
    "import collections\n",
    "n=input(\"Words:\")\n",
    "word=n.split()\n",
    "print(collections.Counter(word))"
   ]
  },
  {
   "cell_type": "code",
   "execution_count": 67,
   "id": "a8e82319",
   "metadata": {},
   "outputs": [
    {
     "name": "stdout",
     "output_type": "stream",
     "text": [
      "Weather:winter,Temp:27\n"
     ]
    }
   ],
   "source": [
    "import random\n",
    "def weather_type():\n",
    "    weather=[\"sunny\",\"rainy\",\"winter\",\"summer\"]\n",
    "    w=random.choice(weather)\n",
    "    if w==\"sunny\":\n",
    "        temp=random.randint(15,20)\n",
    "    elif w==\"rainy\":\n",
    "        temp=random.randint(15,26)      \n",
    "    elif w==\"winter\":\n",
    "        temp=random.randint(25,30)\n",
    "    elif w==\"summer\":\n",
    "        temp=random.randint(30,35)\n",
    "    else:\n",
    "        temp=randome.randint(40,50)\n",
    "    print(f\"Weather:{w},Temp:{temp}\")\n",
    "weather_type()\n",
    "\n",
    "\n",
    "\n"
   ]
  },
  {
   "cell_type": "code",
   "execution_count": 79,
   "id": "bace88ad",
   "metadata": {},
   "outputs": [
    {
     "name": "stdout",
     "output_type": "stream",
     "text": [
      "5\n",
      "4\n",
      "3\n",
      "2\n",
      "1\n",
      "Time's up!    \n"
     ]
    }
   ],
   "source": [
    "import time\n",
    "def countdown(n):\n",
    "    while n>0:\n",
    "        print(n)\n",
    "        time.sleep(1)\n",
    "        n=n-1\n",
    "    print(\"Time's up!    \")\n",
    "countdown(5)\n"
   ]
  },
  {
   "cell_type": "code",
   "execution_count": null,
   "id": "85088633",
   "metadata": {},
   "outputs": [],
   "source": []
  }
 ],
 "metadata": {
  "kernelspec": {
   "display_name": "venv",
   "language": "python",
   "name": "python3"
  },
  "language_info": {
   "codemirror_mode": {
    "name": "ipython",
    "version": 3
   },
   "file_extension": ".py",
   "mimetype": "text/x-python",
   "name": "python",
   "nbconvert_exporter": "python",
   "pygments_lexer": "ipython3",
   "version": "3.11.0"
  }
 },
 "nbformat": 4,
 "nbformat_minor": 5
}
