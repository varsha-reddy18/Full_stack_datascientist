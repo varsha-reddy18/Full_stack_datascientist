{
 "cells": [
  {
   "cell_type": "code",
   "execution_count": 30,
   "id": "4209aa2d",
   "metadata": {},
   "outputs": [
    {
     "name": "stdout",
     "output_type": "stream",
     "text": [
      "[2, 3, 5, 7, 11, 13, 17, 19]\n"
     ]
    }
   ],
   "source": [
    "def prime(n):\n",
    "    primes=[]\n",
    "    for i in range(2,n):\n",
    "        p=True\n",
    "        for j in range(2,int(i**0.5)+1):\n",
    "            if(i%j==0):\n",
    "                p=False\n",
    "                break\n",
    "        if p:\n",
    "            primes.append(i)\n",
    "    return primes\n",
    "\n",
    "n=int(input(\"Enter number:\"))\n",
    "print(prime(n))"
   ]
  },
  {
   "cell_type": "code",
   "execution_count": 35,
   "id": "833ff322",
   "metadata": {},
   "outputs": [
    {
     "name": "stdout",
     "output_type": "stream",
     "text": [
      "Before Reverse: neveroddoreven\n",
      "After Reverse: neveroddoreven\n",
      "True\n"
     ]
    }
   ],
   "source": [
    "def palindrome(s):\n",
    "    s=s.replace(\" \",\"\")\n",
    "    s=s.lower()\n",
    "    print(\"Before Reverse:\",s)\n",
    "    r=\"\"\n",
    "    for i in s:\n",
    "        r=i+r\n",
    "    print(\"After Reverse:\",r)\n",
    "    if(s==r):\n",
    "        return True\n",
    "    else:\n",
    "        return False\n",
    "s=input(\"Enter String:\")\n",
    "if(palindrome(s)):\n",
    "    print(\"True\")\n",
    "else:\n",
    "    print(\"False\")\n"
   ]
  },
  {
   "cell_type": "code",
   "execution_count": 36,
   "id": "59c3d261",
   "metadata": {},
   "outputs": [
    {
     "name": "stdout",
     "output_type": "stream",
     "text": [
      "True\n"
     ]
    }
   ],
   "source": [
    "def anagram(s1,s2):\n",
    "    s1=s1.replace(\" \",\"\").lower()\n",
    "    s2=s2.replace(\" \",\"\").lower()\n",
    "    return sorted(s1)==sorted(s2)\n",
    "s1=input(\"Enter String1:\")\n",
    "s2=input(\"Enter String2:\")\n",
    "if(anagram(s1,s2)):\n",
    "    print(\"True\")\n",
    "else:\n",
    "    print(\"False\")"
   ]
  },
  {
   "cell_type": "code",
   "execution_count": 40,
   "id": "13f15674",
   "metadata": {},
   "outputs": [
    {
     "name": "stdout",
     "output_type": "stream",
     "text": [
      "String: Hello\n",
      "Vowels: 2\n",
      "Consonants: 3\n"
     ]
    }
   ],
   "source": [
    "def countVC(s):\n",
    "    v=0\n",
    "    c=0\n",
    "    print(\"String:\",s)\n",
    "    for i in s:\n",
    "        if i in \"AEIOUaeiou\":\n",
    "            v=v+1\n",
    "        else:\n",
    "            c=c+1\n",
    "    print(\"Vowels:\",v)\n",
    "    print(\"Consonants:\",c)\n",
    "s=input(\"Enter string:\")  \n",
    "countVC(s)"
   ]
  },
  {
   "cell_type": "code",
   "execution_count": 51,
   "id": "c9792ae0",
   "metadata": {},
   "outputs": [
    {
     "name": "stdout",
     "output_type": "stream",
     "text": [
      "String= Python is amazing\n",
      "amazing\n"
     ]
    }
   ],
   "source": [
    "def longestWordFinder(s):\n",
    "    print(\"String=\",s)\n",
    "    s.lower()\n",
    "    l=\"\"\n",
    "    word=s.split()\n",
    "    for i in word:\n",
    "        if(len(i)>len(l)):\n",
    "            l=i\n",
    "    return l\n",
    "s=input(\"Enter String:\")\n",
    "print(longestWordFinder(s))"
   ]
  },
  {
   "cell_type": "code",
   "execution_count": 82,
   "id": "d54b3f62",
   "metadata": {},
   "outputs": [
    {
     "name": "stdout",
     "output_type": "stream",
     "text": [
      "ujyczn\n"
     ]
    }
   ],
   "source": [
    "import random,string\n",
    "n=int(input(\"Enter length:\"))\n",
    "ch=string.ascii_letters+string.digits+string.punctuation\n",
    "password=\"\".join(random.choice(ch) for _ in range(n))\n",
    "print(password)"
   ]
  },
  {
   "cell_type": "code",
   "execution_count": 57,
   "id": "0403faca",
   "metadata": {},
   "outputs": [
    {
     "name": "stdout",
     "output_type": "stream",
     "text": [
      "sqrt: 3.0\n",
      "Factorial: 362880\n",
      "Sin: 1.0\n",
      "Cos: -1.0\n"
     ]
    }
   ],
   "source": [
    "import math\n",
    "n=int(input(\"Enter number:\"))\n",
    "print(\"sqrt:\",math.sqrt(n))\n",
    "print(\"Factorial:\",math.factorial(n))\n",
    "print(\"Sin:\",math.sin(math.pi/2))\n",
    "print(\"Cos:\",math.cos(math.pi))"
   ]
  },
  {
   "cell_type": "code",
   "execution_count": 63,
   "id": "90c2dd96",
   "metadata": {},
   "outputs": [
    {
     "name": "stdout",
     "output_type": "stream",
     "text": [
      "Counter({'cat': 2, 'dog': 1})\n"
     ]
    }
   ],
   "source": [
    "import collections\n",
    "n=input(\"Words:\")\n",
    "word=n.split()\n",
    "print(collections.Counter(word))"
   ]
  },
  {
   "cell_type": "code",
   "execution_count": 67,
   "id": "a8e82319",
   "metadata": {},
   "outputs": [
    {
     "name": "stdout",
     "output_type": "stream",
     "text": [
      "Weather:winter,Temp:27\n"
     ]
    }
   ],
   "source": [
    "import random\n",
    "def weather_type():\n",
    "    weather=[\"sunny\",\"rainy\",\"winter\",\"summer\"]\n",
    "    w=random.choice(weather)\n",
    "    if w==\"sunny\":\n",
    "        temp=random.randint(15,20)\n",
    "    elif w==\"rainy\":\n",
    "        temp=random.randint(15,26)      \n",
    "    elif w==\"winter\":\n",
    "        temp=random.randint(25,30)\n",
    "    elif w==\"summer\":\n",
    "        temp=random.randint(30,35)\n",
    "    else:\n",
    "        temp=randome.randint(40,50)\n",
    "    print(f\"Weather:{w},Temp:{temp}\")\n",
    "weather_type()\n",
    "\n",
    "\n",
    "\n"
   ]
  },
  {
   "cell_type": "code",
   "execution_count": 79,
   "id": "bace88ad",
   "metadata": {},
   "outputs": [
    {
     "name": "stdout",
     "output_type": "stream",
     "text": [
      "5\n",
      "4\n",
      "3\n",
      "2\n",
      "1\n",
      "Time's up!    \n"
     ]
    }
   ],
   "source": [
    "import time\n",
    "def countdown(n):\n",
    "    while n>0:\n",
    "        print(n)\n",
    "        time.sleep(1)\n",
    "        n=n-1\n",
    "    print(\"Time's up!    \")\n",
    "countdown(5)\n"
   ]
  },
  {
   "cell_type": "code",
   "execution_count": 16,
   "id": "85088633",
   "metadata": {},
   "outputs": [
    {
     "name": "stdout",
     "output_type": "stream",
     "text": [
      "Balance: 120\n"
     ]
    }
   ],
   "source": [
    "class BankAccount():\n",
    "    def __init__(self,balance):\n",
    "        self.balance=balance\n",
    "    def deposit(self,amount):\n",
    "        self.balance=amount+self.balance\n",
    "    def withdraw(self,amount):\n",
    "        self.balance=self.balance-amount\n",
    "    def get_balance(self):\n",
    "        return self.balance\n",
    "acc=BankAccount(100)\n",
    "acc.deposit(50)\n",
    "acc.withdraw(30)\n",
    "print(\"Balance:\",acc.get_balance())\n"
   ]
  },
  {
   "cell_type": "code",
   "execution_count": 26,
   "id": "5ebb71c1",
   "metadata": {},
   "outputs": [
    {
     "name": "stdout",
     "output_type": "stream",
     "text": [
      "20.0\n",
      "('Alice', [10, 20, 30, 40])\n",
      "40\n",
      "10\n"
     ]
    }
   ],
   "source": [
    "class Student:\n",
    "    def __init__(self,name,marks):\n",
    "        self.name=name\n",
    "        self.marks=marks\n",
    "    def display(self):\n",
    "        return self.name,self.marks\n",
    "    def get_average(self):\n",
    "        return sum(self.marks)/len(self.marks)\n",
    "    def add_marks(self,mark):\n",
    "        self.marks.append(mark)\n",
    "    def get_high(self):\n",
    "        return max(self.marks)\n",
    "    def get_low(self):\n",
    "        return min(self.marks)\n",
    "stu=Student(\"Alice\",[10,20,30])\n",
    "print(stu.get_average())\n",
    "stu.add_marks(40)\n",
    "print(stu.display())\n",
    "print(stu.get_high())\n",
    "print(stu.get_low())\n"
   ]
  },
  {
   "cell_type": "code",
   "execution_count": 29,
   "id": "70c73e5c",
   "metadata": {},
   "outputs": [
    {
     "name": "stdout",
     "output_type": "stream",
     "text": [
      "2000\n",
      "2000\n",
      "1500\n"
     ]
    }
   ],
   "source": [
    "class Employee:\n",
    "    def __init__(self,name,salary):\n",
    "        self.name=name\n",
    "        self.salary=salary\n",
    "    def bonus():\n",
    "        return 0\n",
    "class Manager(Employee):\n",
    "    def bonus(self):\n",
    "        return self.salary*0.20\n",
    "class Developer(Employee):\n",
    "    def bonus(self):\n",
    "        return self.salary*0.10\n",
    "class Intern(Employee):\n",
    "    def bonus(self):\n",
    "        return self.salary*0.05\n",
    "m=Manager(\"A\",10000)\n",
    "print(int(m.bonus()))\n",
    "d=Developer(\"B\",20000)\n",
    "print(int(d.bonus()))\n",
    "i=Intern(\"C\",30000)\n",
    "print(int(i.bonus()))"
   ]
  },
  {
   "cell_type": "code",
   "execution_count": 41,
   "id": "668b595d",
   "metadata": {},
   "outputs": [
    {
     "name": "stdout",
     "output_type": "stream",
     "text": [
      "153.93804002589985\n",
      "12\n"
     ]
    }
   ],
   "source": [
    "import math\n",
    "class Shape:\n",
    "    def __init__(self,name):\n",
    "        self.name=name\n",
    "    def area(self):\n",
    "        return 0\n",
    "class Circle(Shape):\n",
    "    def __init__(self,name,radius):\n",
    "        super().__init__(name)\n",
    "        self.radius=radius\n",
    "    def area(self):\n",
    "        return math.pi*self.radius*self.radius\n",
    "class Rectangle(Shape):\n",
    "    def __init__(self,name,w,h):\n",
    "        super().__init__(name)\n",
    "        self.w=w\n",
    "        self.h=h\n",
    "    def area(self):\n",
    "        return self.w*self.h\n",
    "c=Circle(\"Circle\",7)\n",
    "print(c.area())\n",
    "r=Rectangle(\"Rectangle\",3,4)\n",
    "print(r.area())"
   ]
  },
  {
   "cell_type": "code",
   "execution_count": 42,
   "id": "5cb3a155",
   "metadata": {},
   "outputs": [
    {
     "name": "stdout",
     "output_type": "stream",
     "text": [
      "Added: Shirt - ₹500\n",
      "Added: Shoes - ₹1500\n",
      "Items in order:\n",
      "- Shirt: ₹500\n",
      "- Shoes: ₹1500\n",
      "Total = 2000\n",
      "Removed: Shirt\n",
      "Items in order:\n",
      "- Shoes: ₹1500\n",
      "Total = 1500\n"
     ]
    }
   ],
   "source": [
    "class Order:\n",
    "    def __init__(self):\n",
    "        self.items = {} \n",
    "    def add(self, item, price):\n",
    "        self.items[item] = price\n",
    "        print(f\"Added: {item} - ₹{price}\")\n",
    "    def remove(self, item):\n",
    "        if item in self.items:\n",
    "            del self.items[item]\n",
    "            print(f\"Removed: {item}\")\n",
    "        else:\n",
    "            print(f\"{item} not found in order.\")\n",
    "    def calculate_total(self):\n",
    "        total = sum(self.items.values())\n",
    "        return f\"Total = {total}\"\n",
    "    def show_items(self):\n",
    "        if not self.items:\n",
    "            print(\"Order is empty.\")\n",
    "        else:\n",
    "            print(\"Items in order:\")\n",
    "            for item, price in self.items.items():\n",
    "                print(f\"- {item}: ₹{price}\")\n",
    "order = Order()\n",
    "order.add(\"Shirt\", 500)\n",
    "order.add(\"Shoes\", 1500)\n",
    "order.show_items()\n",
    "print(order.calculate_total())\n",
    "order.remove(\"Shirt\")\n",
    "order.show_items()\n",
    "print(order.calculate_total())\n",
    "\n"
   ]
  },
  {
   "cell_type": "code",
   "execution_count": 48,
   "id": "5301cd8d",
   "metadata": {},
   "outputs": [
    {
     "name": "stdout",
     "output_type": "stream",
     "text": [
      "[0, 1, 1, 2, 3, 5, 8]\n"
     ]
    }
   ],
   "source": [
    "def fib(n):\n",
    "    r=[]\n",
    "    n1=0\n",
    "    n2=1\n",
    "    c=0\n",
    "    if(n<=0):\n",
    "        print(\"Not possible\")\n",
    "    elif(n==1):\n",
    "        return [n1]\n",
    "    else:\n",
    "        for i in range(n):\n",
    "            r.append(n1)\n",
    "            n3=n1+n2\n",
    "            n1=n2\n",
    "            n2=n3\n",
    "            c=c+1\n",
    "        return r\n",
    "n=int(input())\n",
    "print(fib(n)) \n"
   ]
  },
  {
   "cell_type": "code",
   "execution_count": 50,
   "id": "906f0ae7",
   "metadata": {},
   "outputs": [
    {
     "name": "stdout",
     "output_type": "stream",
     "text": [
      "120\n"
     ]
    }
   ],
   "source": [
    "def fact(n):\n",
    "    if(n==0 or n==1):\n",
    "        return 1\n",
    "    else:\n",
    "        return fact(n-1)*n\n",
    "n=int(input())\n",
    "print(fact(n))"
   ]
  },
  {
   "cell_type": "code",
   "execution_count": 52,
   "id": "c2209cbf",
   "metadata": {},
   "outputs": [
    {
     "name": "stdout",
     "output_type": "stream",
     "text": [
      "{'apple': 2, 'banana': 1, 'mango': 1}\n"
     ]
    }
   ],
   "source": [
    "def uniqueWords(s):\n",
    "    word=s.split()\n",
    "    c={}\n",
    "    for i in word:\n",
    "        if i in c:\n",
    "            c[i]+=1\n",
    "        else:\n",
    "            c[i]=1\n",
    "    return c\n",
    "s=input(\"Enter Sentence:\")\n",
    "print(uniqueWords(s))"
   ]
  },
  {
   "cell_type": "code",
   "execution_count": 53,
   "id": "ebb4850c",
   "metadata": {},
   "outputs": [
    {
     "name": "stdout",
     "output_type": "stream",
     "text": [
      "B\n"
     ]
    }
   ],
   "source": [
    "def calculator(marks):\n",
    "    if not marks:\n",
    "        return \"not provide\"\n",
    "    avg=sum(marks)/len(marks)\n",
    "    if(avg>=90):\n",
    "        return \"A\"\n",
    "    elif(avg>=80):\n",
    "        return \"B\"\n",
    "    elif(avg>=70):\n",
    "        return \"C\"\n",
    "    elif(avg>=60):\n",
    "        return \"D\"\n",
    "    else:\n",
    "        return \"Fail\"\n",
    "marks=[85,80,90]\n",
    "print(calculator(marks))"
   ]
  },
  {
   "cell_type": "code",
   "execution_count": 56,
   "id": "cbd99b68",
   "metadata": {},
   "outputs": [
    {
     "name": "stdout",
     "output_type": "stream",
     "text": [
      "30\n"
     ]
    }
   ],
   "source": [
    "def secondLargest(n):\n",
    "    if(len(n)<2):\n",
    "        return \"No second largest found\"    \n",
    "    else:\n",
    "        f=s=float('-inf')\n",
    "        for i in n:\n",
    "            if i>f:\n",
    "                s=f\n",
    "                f=i\n",
    "            elif f>i>s:\n",
    "                s=i\n",
    "        if s==float('-inf'):\n",
    "            return \"No Second largest\"\n",
    "        else:\n",
    "            return s\n",
    "n=[10,20,30,40]\n",
    "print(secondLargest(n))"
   ]
  },
  {
   "cell_type": "code",
   "execution_count": 61,
   "id": "5afcce83",
   "metadata": {},
   "outputs": [
    {
     "name": "stdout",
     "output_type": "stream",
     "text": [
      "Text files: 1\n",
      "Python files: 4\n"
     ]
    }
   ],
   "source": [
    "import os\n",
    "def countfile():\n",
    "    t=0\n",
    "    p=0\n",
    "    for i in os.listdir('.'):\n",
    "        if i.endswith('.txt'):\n",
    "            t=t+1\n",
    "        if i.endswith('.ipynb'):\n",
    "            p=p+1\n",
    "    print(\"Text files:\",t)\n",
    "    print(\"Python files:\",p)\n",
    "countfile()"
   ]
  },
  {
   "cell_type": "code",
   "execution_count": 69,
   "id": "10407597",
   "metadata": {},
   "outputs": [
    {
     "name": "stdout",
     "output_type": "stream",
     "text": [
      "Mean= 87.85714285714286\n",
      "Median= 90\n",
      "Variance=73.81\n"
     ]
    }
   ],
   "source": [
    "import statistics as st\n",
    "scores= [75, 80, 90, 100, 85, 90, 95]\n",
    "print(\"Mean=\",st.mean(scores))\n",
    "print(\"Median=\",st.median(scores))\n",
    "v=st.variance(scores)\n",
    "print(f\"Variance={v:.2f}\")\n"
   ]
  },
  {
   "cell_type": "code",
   "execution_count": 70,
   "id": "ca5aa312",
   "metadata": {},
   "outputs": [
    {
     "name": "stdout",
     "output_type": "stream",
     "text": [
      "Two real roots: 2.00, 1.00\n"
     ]
    }
   ],
   "source": [
    "import math\n",
    "def solveQuadratic(a, b, c):\n",
    "    if a == 0:\n",
    "        return \"Not a quadratic equation\"\n",
    "    d = b * b - 4 * a * c\n",
    "    if d > 0:\n",
    "        r1 = (-b + math.sqrt(d)) / (2 * a)\n",
    "        r2 = (-b - math.sqrt(d)) / (2 * a)\n",
    "        return f\"Two real roots: {r1:.2f}, {r2:.2f}\"\n",
    "    elif d == 0:\n",
    "        r = -b / (2 * a)\n",
    "        return f\"One real root: {r:.2f}\"\n",
    "    else:\n",
    "        real = -b / (2 * a)\n",
    "        imag = math.sqrt(-d) / (2 * a)\n",
    "        return f\"Two complex roots: {real:.2f}+{imag:.2f}i, {real:.2f}-{imag:.2f}i\"\n",
    "print(solveQuadratic(1, -3, 2)) \n"
   ]
  },
  {
   "cell_type": "code",
   "execution_count": 2,
   "id": "3928b9f3",
   "metadata": {},
   "outputs": [
    {
     "name": "stdout",
     "output_type": "stream",
     "text": [
      "You chose Rock, Computer chose Rock\n",
      "It's a Tie!\n"
     ]
    }
   ],
   "source": [
    "import random\n",
    "options = ['Rock', 'Paper', 'Scissors']\n",
    "user_choice = input(\"User: \").capitalize()\n",
    "if user_choice not in options:\n",
    "    print(\"Invalid choice! Please select Rock, Paper, or Scissors.\")\n",
    "else:\n",
    "    computer_choice = random.choice(options)\n",
    "    print(f\"You chose {user_choice}, Computer chose {computer_choice}\")\n",
    "    if user_choice == computer_choice:\n",
    "        print(\"It's a Tie!\")\n",
    "    elif (user_choice == 'Rock' and computer_choice == 'Scissors') or \\\n",
    "         (user_choice == 'Paper' and computer_choice == 'Rock') or \\\n",
    "         (user_choice == 'Scissors' and computer_choice == 'Paper'):\n",
    "        print(\"You Win!\")\n",
    "    else:\n",
    "        print(\"You Lose!\")\n"
   ]
  },
  {
   "cell_type": "code",
   "execution_count": 1,
   "id": "48c92e21",
   "metadata": {},
   "outputs": [
    {
     "name": "stdout",
     "output_type": "stream",
     "text": [
      "Sum = 30\n"
     ]
    }
   ],
   "source": [
    "import sys\n",
    "sys.argv=[\"add.py\",\"5\",\"10\",\"15\"]\n",
    "if(len(sys.argv)!=4):\n",
    "    print(\"provide exactly 3 numbers\")\n",
    "else:\n",
    "    n1=float(sys.argv[1])\n",
    "    n2=float(sys.argv[2])\n",
    "    n3=float(sys.argv[3])\n",
    "    total=n1+n2+n3\n",
    "    print(f\"Sum = {int(total) if total.is_integer() else total}\")"
   ]
  },
  {
   "cell_type": "code",
   "execution_count": 3,
   "id": "1676a027",
   "metadata": {},
   "outputs": [
    {
     "name": "stdout",
     "output_type": "stream",
     "text": [
      "You borrowed Python 101\n",
      "You returned Python 101\n"
     ]
    },
    {
     "data": {
      "text/plain": [
       "{'Python 101': 3, 'Data Science': 2}"
      ]
     },
     "execution_count": 3,
     "metadata": {},
     "output_type": "execute_result"
    }
   ],
   "source": [
    "class Library:\n",
    "    def __init__(self,books):\n",
    "        self.books=books\n",
    "    def borrow(self,title):\n",
    "        if title in self.books and self.books[title]>0:\n",
    "            self.books[title]-=1\n",
    "            return f\"You borrowed {title}\"\n",
    "        else:\n",
    "            return f\"{title} Not available\"\n",
    "    def return_book(self,title):\n",
    "         if title in self.books and self.books[title]>0:\n",
    "            self.books[title]+=1\n",
    "            return f\"You returned {title}\"\n",
    "    def show_books(self):\n",
    "        return self.books\n",
    "lib = Library({\"Python 101\": 3, \"Data Science\": 2}) \n",
    "print(lib.borrow(\"Python 101\"))\n",
    "print(lib.return_book(\"Python 101\"))\n",
    "lib.show_books()\n",
    " "
   ]
  },
  {
   "cell_type": "code",
   "execution_count": 10,
   "id": "ada9ceb9",
   "metadata": {},
   "outputs": [
    {
     "name": "stdout",
     "output_type": "stream",
     "text": [
      "Access Granted\n",
      "Deposited 200\n",
      "Withdrew 100\n",
      "Balance: 600\n"
     ]
    }
   ],
   "source": [
    "class ATM:\n",
    "    def __init__(self, pin, balance=0):\n",
    "        self.pin = pin\n",
    "        self.balance = balance\n",
    "        self.is_authenticated = False\n",
    "    def login(self, entered_pin):\n",
    "        if entered_pin == self.pin:\n",
    "            self.is_authenticated = True\n",
    "            return \"Access Granted\"\n",
    "        else:\n",
    "            return \"Access Denied\"\n",
    "    def check_balance(self):\n",
    "        if self.is_authenticated:\n",
    "            return f\"Balance: {self.balance}\"\n",
    "        else:\n",
    "            return \"Please login first\"\n",
    "    def deposit(self, amount):\n",
    "        if self.is_authenticated:\n",
    "            self.balance += amount\n",
    "            return f\"Deposited {amount}\"\n",
    "        else:\n",
    "            return \"Please login first\"\n",
    "    def withdraw(self, amount):\n",
    "        if self.is_authenticated:\n",
    "            if amount <= self.balance:\n",
    "                self.balance -= amount\n",
    "                return f\"Withdrew {amount}\"\n",
    "            else:\n",
    "                return \"Insufficient funds\"\n",
    "        else:\n",
    "            return \"Please login first\"\n",
    "atm = ATM(1234, 500) \n",
    "print(atm.login(1234))\n",
    "print(atm.deposit(200))\n",
    "print(atm.withdraw(100)) \n",
    "print(atm.check_balance())\n",
    "\n"
   ]
  },
  {
   "cell_type": "code",
   "execution_count": 18,
   "id": "1a2cdd60",
   "metadata": {},
   "outputs": [
    {
     "name": "stdout",
     "output_type": "stream",
     "text": [
      "Dr. Smith is teaching Python\n",
      "Alice enrolled in Python\n",
      "Dr. Smith assigned: Project 1\n",
      "Alice enrolled in Project 1\n"
     ]
    }
   ],
   "source": [
    "class Professor:\n",
    "    def __init__(self,name,sub):\n",
    "        self.name=name\n",
    "        self.sub=sub\n",
    "    def teach(self,course):\n",
    "        return f\"{self.name} is teaching {course}\"\n",
    "    def give_assignment(self,task):\n",
    "        return f\"{self.name} assigned: {task}\"\n",
    "class Student:\n",
    "    def __init__(self,name):\n",
    "        self.name=name\n",
    "        self.courses=[]\n",
    "        self.assignments=[]\n",
    "    def enroll(self,course):\n",
    "        self.courses.append(course)\n",
    "        return f\"{self.name} enrolled in {course}\"\n",
    "    def submit_assignment(self,task):\n",
    "        self.assignments.append(task)\n",
    "        return f\"{self.name} enrolled in {task}\"\n",
    "prof = Professor(\"Dr. Smith\", \"Computer Science\")\n",
    "stud = Student(\"Alice\")\n",
    "print(prof.teach(\"Python\"))\n",
    "print(stud.enroll(\"Python\"))\n",
    "print(prof.give_assignment(\"Project 1\"))\n",
    "print(stud.submit_assignment(\"Project 1\"))\n",
    " \n",
    "\n",
    "\n"
   ]
  },
  {
   "cell_type": "code",
   "execution_count": 19,
   "id": "f0cca989",
   "metadata": {},
   "outputs": [
    {
     "name": "stdout",
     "output_type": "stream",
     "text": [
      "Booked 2 tickets for Avatar\n",
      "Cancelled 1 ticket for Avatar\n",
      "Movies: {'Avatar': 9, 'Batman': 5}\n"
     ]
    }
   ],
   "source": [
    "class Cinema:\n",
    "    def __init__(self, movies):\n",
    "        self.movies = movies\n",
    "    def book(self, movie, seats):\n",
    "        if movie in self.movies:\n",
    "            if self.movies[movie] >= seats:\n",
    "                self.movies[movie] -= seats\n",
    "                return f\"Booked {seats} tickets for {movie}\"\n",
    "            else:\n",
    "                return f\"Not enough seats available for {movie}\"\n",
    "        else:\n",
    "            return f\"{movie} not found\"\n",
    "    def cancel(self, movie, seats):\n",
    "        if movie in self.movies:\n",
    "            self.movies[movie] += seats\n",
    "            return f\"Cancelled {seats} ticket{'s' if seats > 1 else ''} for {movie}\"\n",
    "        else:\n",
    "            return f\"{movie} not found\"\n",
    "    def show_movies(self):\n",
    "        print(f\"Movies: {self.movies}\")\n",
    "cinema = Cinema({\"Avatar\": 10, \"Batman\": 5})\n",
    "print(cinema.book(\"Avatar\", 2))\n",
    "print(cinema.cancel(\"Avatar\", 1))\n",
    "cinema.show_movies()\n",
    "\n"
   ]
  },
  {
   "cell_type": "code",
   "execution_count": 20,
   "id": "6f3a963d",
   "metadata": {},
   "outputs": [
    {
     "name": "stdout",
     "output_type": "stream",
     "text": [
      "Burger added\n",
      "Pizza added\n",
      "Pizza price updated to 250\n",
      "Burger removed\n",
      "Menu: {'Pizza': 250}\n"
     ]
    }
   ],
   "source": [
    "class Menu:\n",
    "    def __init__(self):\n",
    "        self.items = {}\n",
    "    def add_item(self, name, price):\n",
    "        self.items[name] = price\n",
    "        return f\"{name} added\"\n",
    "    def remove_item(self, name):\n",
    "        if name in self.items:\n",
    "            del self.items[name]\n",
    "            return f\"{name} removed\"\n",
    "        else:\n",
    "            return f\"{name} not found\"\n",
    "    def update_price(self, name, new_price):\n",
    "        if name in self.items:\n",
    "            self.items[name] = new_price\n",
    "            return f\"{name} price updated to {new_price}\"\n",
    "        else:\n",
    "            return f\"{name} not found\"\n",
    "    def show_menu(self):\n",
    "        print(f\"Menu: {self.items}\")\n",
    "menu = Menu() \n",
    "print(menu.add_item(\"Burger\", 100)) \n",
    "print(menu.add_item(\"Pizza\", 200))\n",
    "print(menu.update_price(\"Pizza\", 250))\n",
    "print(menu.remove_item(\"Burger\"))\n",
    "menu.show_menu()\n",
    "\n"
   ]
  },
  {
   "cell_type": "code",
   "execution_count": null,
   "id": "deb9cf9e",
   "metadata": {},
   "outputs": [],
   "source": []
  }
 ],
 "metadata": {
  "kernelspec": {
   "display_name": "venv",
   "language": "python",
   "name": "python3"
  },
  "language_info": {
   "codemirror_mode": {
    "name": "ipython",
    "version": 3
   },
   "file_extension": ".py",
   "mimetype": "text/x-python",
   "name": "python",
   "nbconvert_exporter": "python",
   "pygments_lexer": "ipython3",
   "version": "3.11.0"
  }
 },
 "nbformat": 4,
 "nbformat_minor": 5
}
