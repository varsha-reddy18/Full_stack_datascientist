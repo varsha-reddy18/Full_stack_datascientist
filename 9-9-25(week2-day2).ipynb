{
 "cells": [
  {
   "cell_type": "code",
   "execution_count": 7,
   "id": "d4e2e84b",
   "metadata": {},
   "outputs": [
    {
     "name": "stdout",
     "output_type": "stream",
     "text": [
      "12\n"
     ]
    }
   ],
   "source": [
    "file=open(\"example.txt\",\"r\")\n",
    "text=file.read()\n",
    "word=text.split()\n",
    "c=0\n",
    "for i in word:\n",
    "    c=c+1\n",
    "print(c)"
   ]
  },
  {
   "cell_type": "code",
   "execution_count": 9,
   "id": "fb89dafc",
   "metadata": {},
   "outputs": [
    {
     "name": "stdout",
     "output_type": "stream",
     "text": [
      "Not strong password\n"
     ]
    }
   ],
   "source": [
    "def password(p):\n",
    "    if len(p)<8:\n",
    "        return False\n",
    "    u=False\n",
    "    l=False\n",
    "    d=False\n",
    "    s=False\n",
    "    special=\"!@#$%^&*()><?+_~[]{}\"\n",
    "    for i in p:\n",
    "        if i.isupper():\n",
    "            u=True\n",
    "        elif i.islower():\n",
    "            l=True\n",
    "        elif i.isdigit():\n",
    "            d=True\n",
    "        elif i in special:\n",
    "            s=True\n",
    "    return u and l and d\n",
    "p=input(\"Enter Password:\")\n",
    "if(password(p)):\n",
    "    print(\"Strong Password\")\n",
    "else:\n",
    "    print(\"Not strong password\")\n"
   ]
  },
  {
   "cell_type": "code",
   "execution_count": 11,
   "id": "9833a507",
   "metadata": {},
   "outputs": [
    {
     "name": "stdout",
     "output_type": "stream",
     "text": [
      "Sum= 30\n"
     ]
    }
   ],
   "source": [
    "def calc(a,b,ch):\n",
    "    if(ch=='+'):\n",
    "        print(\"Sum=\",a+b)\n",
    "    elif(ch=='-'):\n",
    "        print(\"Sub=\",a-b)\n",
    "    elif(ch=='*'):\n",
    "        print(\"Mul=\",a*b)\n",
    "    elif(ch=='/'):\n",
    "        print(\"Div=\",a/b)\n",
    "    else:\n",
    "        print(\"No choice\")\n",
    "a=int(input())\n",
    "b=int(input())\n",
    "ch=input()\n",
    "calc(a,b,ch)\n"
   ]
  },
  {
   "cell_type": "code",
   "execution_count": 122,
   "id": "8c58898f",
   "metadata": {},
   "outputs": [
    {
     "name": "stdout",
     "output_type": "stream",
     "text": [
      "['a', 'b']\n"
     ]
    }
   ],
   "source": [
    "l=[\"a\",\"b\",\"c\",\"a\",\"d\",\"b\"]\n",
    "seen=set()\n",
    "dup=set()\n",
    "for i in l:\n",
    "    if i in seen:\n",
    "        dup.add(i)\n",
    "    else:\n",
    "        seen.add(i)\n",
    "print(sorted(list(dup)))"
   ]
  },
  {
   "cell_type": "code",
   "execution_count": 24,
   "id": "8b8e582e",
   "metadata": {},
   "outputs": [
    {
     "name": "stdout",
     "output_type": "stream",
     "text": [
      "Fahrenheit: 53.6\n"
     ]
    }
   ],
   "source": [
    "cel=float(input(\"Enter celsius:\"))\n",
    "f=c*(9/5)+32\n",
    "print(\"Fahrenheit:\",f)"
   ]
  },
  {
   "cell_type": "code",
   "execution_count": 26,
   "id": "60217f4f",
   "metadata": {},
   "outputs": [
    {
     "name": "stdout",
     "output_type": "stream",
     "text": [
      "Largest number: 78\n"
     ]
    }
   ],
   "source": [
    "l=[10,20,30,40,50,60,23,78,34]\n",
    "print(\"Largest number:\",max(l))"
   ]
  },
  {
   "cell_type": "code",
   "execution_count": 27,
   "id": "0a7990ff",
   "metadata": {},
   "outputs": [
    {
     "name": "stdout",
     "output_type": "stream",
     "text": [
      "Simple Interest: 500.0\n"
     ]
    }
   ],
   "source": [
    "p=int(input(\"Enter principle:\"))\n",
    "r=int(input(\"Rate:\"))\n",
    "t=int(input(\"Time:\"))\n",
    "si=(p*r*t)/100\n",
    "print(\"Simple Interest:\",si)"
   ]
  },
  {
   "cell_type": "code",
   "execution_count": 43,
   "id": "ae126388",
   "metadata": {},
   "outputs": [
    {
     "name": "stdout",
     "output_type": "stream",
     "text": [
      "ananya:70\n",
      "keerthi:67\n"
     ]
    }
   ],
   "source": [
    "dic={\"varsha\":\"85\",\"srinidhi\":\"81\",\"ananya\":\"70\",\"keerthi\":\"67\"}\n",
    "for key,value in dic.items():\n",
    "    if(int(value)<=75):\n",
    "        print(f\"{key}:{value}\")"
   ]
  },
  {
   "cell_type": "code",
   "execution_count": 47,
   "id": "1dad9281",
   "metadata": {},
   "outputs": [
    {
     "name": "stdout",
     "output_type": "stream",
     "text": [
      "10\n"
     ]
    }
   ],
   "source": [
    "def sumOfDigits(n):\n",
    "    s=0\n",
    "    while(n>0):\n",
    "        d=n%10\n",
    "        s=s+d\n",
    "        n=n//10\n",
    "    return s\n",
    "n=int(input(\"Enter number:\"))\n",
    "print(sumOfDigits(n))\n"
   ]
  },
  {
   "cell_type": "code",
   "execution_count": 57,
   "id": "97784e43",
   "metadata": {},
   "outputs": [
    {
     "name": "stdout",
     "output_type": "stream",
     "text": [
      "True\n"
     ]
    }
   ],
   "source": [
    "def isprime(n):\n",
    "    if(n<=1):\n",
    "        return False\n",
    "    if(n==2):\n",
    "        return True\n",
    "    else:\n",
    "        for i in range(3,n):\n",
    "            if(n%i==0):\n",
    "                return False\n",
    "        return True\n",
    "n=int(input(\"Enter number:\"))\n",
    "print(isprime(n))"
   ]
  },
  {
   "cell_type": "code",
   "execution_count": 61,
   "id": "0a52927c",
   "metadata": {},
   "outputs": [
    {
     "name": "stdout",
     "output_type": "stream",
     "text": [
      "[10, 25, 38, 19, 3]\n",
      "Largest number: 38\n",
      "Smallest number: 3\n"
     ]
    }
   ],
   "source": [
    "l=list(map(int,input(\"Enter numbers:\").split()))\n",
    "print(l)\n",
    "print(\"Largest number:\",max(l))\n",
    "print(\"Smallest number:\",min(l))"
   ]
  },
  {
   "cell_type": "code",
   "execution_count": 123,
   "id": "d659e00b",
   "metadata": {},
   "outputs": [
    {
     "name": "stdout",
     "output_type": "stream",
     "text": [
      "{1: 500, 2: 300, 3: 300, 4: 700}\n",
      "Price: 1800\n"
     ]
    }
   ],
   "source": [
    "d={1:500,2:300,3:300,4:700}\n",
    "print(d)\n",
    "s=0\n",
    "for key,value in d.items():\n",
    "    s=s+value\n",
    "print(\"Price:\",s)\n",
    "    "
   ]
  },
  {
   "cell_type": "code",
   "execution_count": 72,
   "id": "3f66cfac",
   "metadata": {},
   "outputs": [
    {
     "name": "stdout",
     "output_type": "stream",
     "text": [
      "5=b is largest\n"
     ]
    }
   ],
   "source": [
    "a=int(input())\n",
    "b=int(input())\n",
    "c=int(input())\n",
    "if(a>b and a>c):\n",
    "    print(f\"{a}=a is largest\")\n",
    "elif(b>a and b>c):\n",
    "    print(f\"{b}=b is largest\")\n",
    "else:\n",
    "    print(f\"{c}=c is largest\")"
   ]
  },
  {
   "cell_type": "code",
   "execution_count": 82,
   "id": "3d92072d",
   "metadata": {},
   "outputs": [
    {
     "name": "stdout",
     "output_type": "stream",
     "text": [
      "{'h': 2, 'e': 1, 'l': 4, 'o': 2, ' ': 1}\n"
     ]
    }
   ],
   "source": [
    "ch=input(\"Enter a character:\")\n",
    "ch.lower()\n",
    "seen={}\n",
    "for i in ch:\n",
    "    if i in seen:\n",
    "        seen[i]+=1\n",
    "    else:\n",
    "        seen[i]=1\n",
    "print(seen)"
   ]
  },
  {
   "cell_type": "code",
   "execution_count": 124,
   "id": "3b490d6d",
   "metadata": {},
   "outputs": [
    {
     "name": "stdout",
     "output_type": "stream",
     "text": [
      "2012.0\n"
     ]
    }
   ],
   "source": [
    "def calElectricity(u):\n",
    "    if(u<=100):\n",
    "        bill=0.05*u\n",
    "    elif(u<=200):\n",
    "        bill=(0.05*100)+(0.07*u)\n",
    "    else:\n",
    "        bill=(0.05*100)+(0.07*100)+(u-200)*10\n",
    "    return bill\n",
    "u=int(input(\"Units:\"))\n",
    "print(calElectricity(u))\n",
    "    "
   ]
  },
  {
   "cell_type": "code",
   "execution_count": 92,
   "id": "d5c5c88f",
   "metadata": {},
   "outputs": [
    {
     "name": "stdout",
     "output_type": "stream",
     "text": [
      "['ananya', 'dharani', 'keerthi', 'pooja', 'srinidhi', 'varsha']\n"
     ]
    }
   ],
   "source": [
    "l=[\"varsha\",\"ananya\",\"keerthi\",\"srinidhi\",\"pooja\",\"dharani\"]\n",
    "l.sort()\n",
    "print(l)"
   ]
  },
  {
   "cell_type": "code",
   "execution_count": 93,
   "id": "7f29eb7c",
   "metadata": {},
   "outputs": [
    {
     "name": "stdout",
     "output_type": "stream",
     "text": [
      "4321\n"
     ]
    }
   ],
   "source": [
    "def reverse(n):\n",
    "    rem=0\n",
    "    while(n>0):\n",
    "        d=n%10\n",
    "        rem=rem*10+d\n",
    "        n=n//10\n",
    "    return rem\n",
    "n=int(input())\n",
    "print(reverse(n))"
   ]
  },
  {
   "cell_type": "code",
   "execution_count": 95,
   "id": "3f240ce1",
   "metadata": {},
   "outputs": [
    {
     "name": "stdout",
     "output_type": "stream",
     "text": [
      "Positive: 5\n",
      "Negative: 3\n",
      "Zeros: 2\n"
     ]
    }
   ],
   "source": [
    "l1=[1,2,-3,4,0,9,10,-3,0,-11]\n",
    "p=0\n",
    "n=0\n",
    "z=0\n",
    "for l in l1:\n",
    "    if(l>0):\n",
    "        p=p+1\n",
    "    elif(l<0):\n",
    "        n=n+1\n",
    "    else:\n",
    "        z=z+1\n",
    "print(\"Positive:\",p)\n",
    "print(\"Negative:\",n)\n",
    "print(\"Zeros:\",z)"
   ]
  },
  {
   "cell_type": "code",
   "execution_count": 100,
   "id": "ebc5fc5a",
   "metadata": {},
   "outputs": [
    {
     "name": "stdout",
     "output_type": "stream",
     "text": [
      "Correct pin\n"
     ]
    }
   ],
   "source": [
    "correctPin=int(input())\n",
    "a=3\n",
    "while a>0:\n",
    "    enteredPin=int(input())\n",
    "    if(correctPin==enteredPin):\n",
    "        print(\"Correct pin\")\n",
    "        break\n",
    "    else:\n",
    "        a=a-1\n",
    "        if(a>0):\n",
    "            print(\"Incorrect Pin\")\n",
    "        else:\n",
    "            print(\"Access Denied\")\n",
    "\n"
   ]
  },
  {
   "cell_type": "code",
   "execution_count": null,
   "id": "3f3f6c47",
   "metadata": {},
   "outputs": [
    {
     "name": "stdout",
     "output_type": "stream",
     "text": [
      "Add: 30\n",
      "Sub: -10\n",
      "Mul: 200\n",
      "Error Division\n"
     ]
    }
   ],
   "source": [
    "a=int(input())\n",
    "b=int(input())\n",
    "c=int(input())\n",
    "try:\n",
    "    print(\"Add:\",a+b)\n",
    "    print(\"Sub:\",a-b)\n",
    "    print(\"Mul:\",a*b)\n",
    "    print(\"Div:\",a/c)\n",
    "except:\n",
    "    print(\"ZeroDivisionError\")"
   ]
  },
  {
   "cell_type": "code",
   "execution_count": 109,
   "id": "848eefb9",
   "metadata": {},
   "outputs": [
    {
     "name": "stdout",
     "output_type": "stream",
     "text": [
      "ValueError\n"
     ]
    }
   ],
   "source": [
    "try:\n",
    "    a=int(input())\n",
    "    b=int(input())\n",
    "    c=int(input()) \n",
    "    print(\"Add:\",a+b)\n",
    "    print(\"Sub:\",a-b)\n",
    "    print(\"Mul:\",a*b)\n",
    "    print(\"Div:\",a/c)\n",
    "    print(\"Value:\",c)\n",
    "except ValueError:\n",
    "    print(\"ValueError\")\n",
    "except:\n",
    "    print(\"ZeroDivisionError\")"
   ]
  },
  {
   "cell_type": "code",
   "execution_count": null,
   "id": "1103cbc3",
   "metadata": {},
   "outputs": [
    {
     "name": "stdout",
     "output_type": "stream",
     "text": [
      "Add: 30\n",
      "Sub: -10\n",
      "Mul: 200\n",
      "ZeroDivisionError\n"
     ]
    }
   ],
   "source": [
    "try:\n",
    "    a=int(input())\n",
    "    b=int(input())\n",
    "    c=int(input()) \n",
    "    print(\"Add:\",a+b)\n",
    "    print(\"Sub:\",a-b)\n",
    "    print(\"Mul:\",a*b)\n",
    "    print(\"Div:\",a/c)\n",
    "    print(\"Value:\",c)\n",
    "except ValueError:\n",
    "    print(\"ValueError\")\n",
    "except:\n",
    "    print(\"Zero Division Error\")"
   ]
  },
  {
   "cell_type": "code",
   "execution_count": 126,
   "id": "cf1b11d6",
   "metadata": {},
   "outputs": [
    {
     "name": "stdout",
     "output_type": "stream",
     "text": [
      "Withdraw Successfully\n",
      "Insufficient Balance\n"
     ]
    }
   ],
   "source": [
    "try:\n",
    "    balance=int(input())\n",
    "    withdraw=int(input())\n",
    "    if(withdraw<balance):\n",
    "        print(\"Withdraw Successfully\")\n",
    "        raise Exception\n",
    "except:\n",
    "    print(\"Insufficient Balance\")\n"
   ]
  },
  {
   "cell_type": "code",
   "execution_count": 125,
   "id": "b3c22b38",
   "metadata": {},
   "outputs": [
    {
     "name": "stdout",
     "output_type": "stream",
     "text": [
      "Total Bill: 2012.0\n",
      "Bill processing finished\n"
     ]
    }
   ],
   "source": [
    "try:\n",
    "    units=int(input())\n",
    "    if(units<=100):\n",
    "        bill=units*0.05\n",
    "    elif(units<=200):\n",
    "        bill=(100*0.05)+(units*0.07)\n",
    "    else:\n",
    "        bill=(100*0.05)+(100*0.07)+(units-200)*10\n",
    "    print(\"Total Bill:\",bill)\n",
    "except:\n",
    "    print(\"Input Invalid\")\n",
    "finally:\n",
    "    print(\"Bill processing finished\")"
   ]
  },
  {
   "cell_type": "code",
   "execution_count": null,
   "id": "81067c41",
   "metadata": {},
   "outputs": [],
   "source": []
  }
 ],
 "metadata": {
  "kernelspec": {
   "display_name": "venv",
   "language": "python",
   "name": "python3"
  },
  "language_info": {
   "codemirror_mode": {
    "name": "ipython",
    "version": 3
   },
   "file_extension": ".py",
   "mimetype": "text/x-python",
   "name": "python",
   "nbconvert_exporter": "python",
   "pygments_lexer": "ipython3",
   "version": "3.11.0"
  }
 },
 "nbformat": 4,
 "nbformat_minor": 5
}
